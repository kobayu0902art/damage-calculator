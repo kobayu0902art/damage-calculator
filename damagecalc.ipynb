{
 "cells": [
  {
   "cell_type": "code",
   "execution_count": 8,
   "metadata": {},
   "outputs": [
    {
     "data": {
      "text/plain": [
       "213"
      ]
     },
     "execution_count": 8,
     "metadata": {},
     "output_type": "execute_result"
    }
   ],
   "source": [
    "#HP\n",
    "#(種族値+個体値/2+努力値/8)+60\n",
    "#int((BS+IV/2+EV/8)+60)\n",
    "#ABCDS\n",
    "#{(種族値+個体値/2+努力値/8)+5}×性格補正\n",
    "#int(((BS+IV/2+EV/8)+5)*NC)\n",
    "\n",
    "#ドラパルトH\n",
    "BS=88\n",
    "IV=31\n",
    "EV=0\n",
    "NC=1\n",
    "int((BS+IV/2+EV/8)+60)\n",
    "\n",
    "#ドラパルトA\n",
    "BS=120\n",
    "IV=31\n",
    "EV=252\n",
    "NC=1\n",
    "int(((BS+IV/2+EV/8)+5)*NC)\n",
    "\n",
    "#ドラパルトS\n",
    "BS=142\n",
    "IV=31\n",
    "EV=252\n",
    "NC=1.1\n",
    "int(((BS+IV/2+EV/8)+5)*NC)"
   ]
  },
  {
   "cell_type": "code",
   "execution_count": 12,
   "metadata": {},
   "outputs": [
    {
     "name": "stdout",
     "output_type": "stream",
     "text": [
      "176 210\n"
     ]
    }
   ],
   "source": [
    "#damage\n",
    "#0.85～1.00までの16段階(乱数)\n",
    "#{ ( 2 * 攻撃側のレベル ) / 5 + 2 } = A (切り捨て)\n",
    "#( A * 技の威力 * 攻撃力 / 防御力 ) = B (切り捨て)\n",
    "#B / 50 + 2 = C (切り捨て)\n",
    "#a=int((2*atlv)/5+2)\n",
    "#b=int(a*power*ata/deb)\n",
    "#c=int(b/50+2)\n",
    "#乱数(切り捨て)\n",
    "#random.randint(0,15)/100\n",
    "#タイプ相性(切り捨て)\n",
    "#int(*comp)\n",
    "#タイプ一致(五捨五超入)\n",
    "#Rounded_off(*match)\n",
    "\n",
    "#ドラパルト-ミミッキュ　シャドーダイブ\n",
    "atlv=50\n",
    "power=90\n",
    "ata=172\n",
    "deb=100\n",
    "a=int((2*atlv)/5+2)\n",
    "b=int(a*power*ata/deb)\n",
    "c=int(b/50+2)\n",
    "\n",
    "print(int(int(c*0.85)*1.5)*2,c*3)\n",
    "#176～210"
   ]
  },
  {
   "cell_type": "code",
   "execution_count": 13,
   "metadata": {},
   "outputs": [
    {
     "name": "stdout",
     "output_type": "stream",
     "text": [
      "178.5 210\n"
     ]
    }
   ],
   "source": [
    "import math\n",
    "def Rounded_off(n):\n",
    "    return math.ceil(n-0.5)\n",
    "\n",
    "#タイプ相性(切り捨て)\n",
    "comp=2\n",
    "#タイプ一致(五捨五超入)\n",
    "match=1.5\n",
    "d=int(c*comp)\n",
    "e=Rounded_off(d*1.5)\n",
    "print(int(e*0.85),e)"
   ]
  }
 ],
 "metadata": {
  "kernelspec": {
   "display_name": "Python 3",
   "language": "python",
   "name": "python3"
  },
  "language_info": {
   "codemirror_mode": {
    "name": "ipython",
    "version": 3
   },
   "file_extension": ".py",
   "mimetype": "text/x-python",
   "name": "python",
   "nbconvert_exporter": "python",
   "pygments_lexer": "ipython3",
   "version": "3.7.3"
  }
 },
 "nbformat": 4,
 "nbformat_minor": 2
}
